{
 "cells": [
  {
   "cell_type": "markdown",
   "metadata": {},
   "source": [
    "# musical-key-finder"
   ]
  },
  {
   "cell_type": "markdown",
   "metadata": {},
   "source": [
    "A python project that uses Librosa and other libraries to analyze the key that a song (an .mp3) is in,\n",
    "i.e. F major or C# minor, using the Krumhansl-Schmuckler key-finding algorithm."
   ]
  },
  {
   "cell_type": "code",
   "execution_count": 6,
   "metadata": {},
   "outputs": [],
   "source": [
    "# Code source: jackmcarthur (git)\n",
    "# License: \n",
    "# Slightly edited by me as part of my master thesis: Victor Tideman"
   ]
  },
  {
   "cell_type": "code",
   "execution_count": 7,
   "metadata": {},
   "outputs": [],
   "source": [
    "import numpy as np\n",
    "import matplotlib.pyplot as plt\n",
    "import IPython.display as ipd\n",
    "import librosa\n",
    "import librosa.display"
   ]
  },
  {
   "cell_type": "code",
   "execution_count": 8,
   "metadata": {},
   "outputs": [],
   "source": [
    "# class that uses the librosa library to analyze the key that an mp3 is in\n",
    "# arguments:\n",
    "#     waveform: an mp3 file loaded by librosa, ideally separated out from any percussive sources\n",
    "#     sr: sampling rate of the mp3, which can be obtained when the file is read with librosa\n",
    "#     tstart and tend: the range in seconds of the file to be analyzed; default to the beginning and end of file if not specified\n",
    "class Tonal_Fragment(object):\n",
    "    def __init__(self, waveform, sr, tstart=None, tend=None):\n",
    "        self.waveform = waveform\n",
    "        self.sr = sr\n",
    "        self.tstart = tstart\n",
    "        self.tend = tend\n",
    "        \n",
    "        if self.tstart is not None:\n",
    "            self.tstart = librosa.time_to_samples(self.tstart, sr=self.sr)\n",
    "        if self.tend is not None:\n",
    "            self.tend = librosa.time_to_samples(self.tend, sr=self.sr)\n",
    "        self.y_segment = self.waveform[self.tstart:self.tend]\n",
    "        self.chromograph = librosa.feature.chroma_cqt(y=self.y_segment, sr=self.sr, bins_per_octave=24)\n",
    "        \n",
    "        # chroma_vals is the amount of each pitch class present in this time interval\n",
    "        self.chroma_vals = []\n",
    "        for i in range(12):\n",
    "            self.chroma_vals.append(np.sum(self.chromograph[i]))\n",
    "        pitches = ['C','C#','D','D#','E','F','F#','G','G#','A','A#','B']\n",
    "        # dictionary relating pitch names to the associated intensity in the song\n",
    "        self.keyfreqs = {pitches[i]: self.chroma_vals[i] for i in range(12)} \n",
    "        \n",
    "        keys = [pitches[i] + ' major' for i in range(12)] + [pitches[i] + ' minor' for i in range(12)]\n",
    "\n",
    "        # use of the Krumhansl-Schmuckler key-finding algorithm, which compares the chroma\n",
    "        # data above to typical profiles of major and minor keys:\n",
    "        maj_profile = [6.35, 2.23, 3.48, 2.33, 4.38, 4.09, 2.52, 5.19, 2.39, 3.66, 2.29, 2.88]\n",
    "        min_profile = [6.33, 2.68, 3.52, 5.38, 2.60, 3.53, 2.54, 4.75, 3.98, 2.69, 3.34, 3.17]\n",
    "\n",
    "        # finds correlations between the amount of each pitch class in the time interval and the above profiles,\n",
    "        # starting on each of the 12 pitches. then creates dict of the musical keys (major/minor) to the correlation\n",
    "        self.min_key_corrs = []\n",
    "        self.maj_key_corrs = []\n",
    "        for i in range(12):\n",
    "            key_test = [self.keyfreqs.get(pitches[(i + m)%12]) for m in range(12)]\n",
    "            # correlation coefficients (strengths of correlation for each key)\n",
    "            self.maj_key_corrs.append(round(np.corrcoef(maj_profile, key_test)[1,0], 3))\n",
    "            self.min_key_corrs.append(round(np.corrcoef(min_profile, key_test)[1,0], 3))\n",
    "\n",
    "        # names of all major and minor keys\n",
    "        self.key_dict = {**{keys[i]: self.maj_key_corrs[i] for i in range(12)}, \n",
    "                         **{keys[i+12]: self.min_key_corrs[i] for i in range(12)}}\n",
    "        \n",
    "        # this attribute represents the key determined by the algorithm\n",
    "        self.key = max(self.key_dict, key=self.key_dict.get)\n",
    "        self.bestcorr = max(self.key_dict.values())\n",
    "        \n",
    "        # this attribute represents the second-best key determined by the algorithm,\n",
    "        # if the correlation is close to that of the actual key determined\n",
    "        self.altkey = None\n",
    "        self.altbestcorr = None\n",
    "\n",
    "        for key, corr in self.key_dict.items():\n",
    "            if corr > self.bestcorr*0.9 and corr != self.bestcorr:\n",
    "                self.altkey = key\n",
    "                self.altbestcorr = corr\n",
    "                \n",
    "    # prints the relative prominence of each pitch class            \n",
    "    def print_chroma(self):\n",
    "        self.chroma_max = max(self.chroma_vals)\n",
    "        for key, chrom in self.keyfreqs.items():\n",
    "            print(key, '\\t', f'{chrom/self.chroma_max:5.3f}')\n",
    "                \n",
    "    # prints the correlation coefficients associated with each major/minor key\n",
    "    def corr_table(self):\n",
    "        for key, corr in self.key_dict.items():\n",
    "            print(key, '\\t', f'{corr:6.3f}')\n",
    "    \n",
    "    # printout of the key determined by the algorithm; if another key is close, that key is mentioned\n",
    "    def print_key(self):\n",
    "        print(\"likely key: \", max(self.key_dict, key=self.key_dict.get), \", correlation: \", self.bestcorr, sep='')\n",
    "        if self.altkey is not None:\n",
    "                print(\"also possible: \", self.altkey, \", correlation: \", self.altbestcorr, sep='')\n",
    "    \n",
    "    # prints a chromagram of the file, showing the intensity of each pitch class over time\n",
    "    def chromagram(self, title=None):\n",
    "        C = librosa.feature.chroma_cqt(y=self.waveform, sr=sr, bins_per_octave=24)\n",
    "        plt.figure(figsize=(12,4))\n",
    "        librosa.display.specshow(C, sr=sr, x_axis='time', y_axis='chroma', vmin=0, vmax=1)\n",
    "        if title is None:\n",
    "            plt.title('Chromagram')\n",
    "        else:\n",
    "            plt.title(title)\n",
    "        plt.colorbar()\n",
    "        plt.tight_layout()\n",
    "        plt.show()"
   ]
  },
  {
   "cell_type": "code",
   "execution_count": null,
   "metadata": {},
   "outputs": [],
   "source": []
  }
 ],
 "metadata": {
  "kernelspec": {
   "display_name": "Python 3 (ipykernel)",
   "language": "python",
   "name": "python3"
  },
  "language_info": {
   "codemirror_mode": {
    "name": "ipython",
    "version": 3
   },
   "file_extension": ".py",
   "mimetype": "text/x-python",
   "name": "python",
   "nbconvert_exporter": "python",
   "pygments_lexer": "ipython3",
   "version": "3.9.7"
  }
 },
 "nbformat": 4,
 "nbformat_minor": 4
}
